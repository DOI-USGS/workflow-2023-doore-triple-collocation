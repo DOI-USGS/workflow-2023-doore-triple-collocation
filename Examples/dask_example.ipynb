{
 "cells": [
  {
   "cell_type": "code",
   "execution_count": null,
   "id": "56179162-ac7d-4ffd-b929-7834851642d1",
   "metadata": {
    "tags": []
   },
   "outputs": [],
   "source": [
    "import numpy as np\n",
    "import dask.array as da\n",
    "from dask.diagnostics import ProgressBar"
   ]
  },
  {
   "cell_type": "code",
   "execution_count": null,
   "id": "78f61f9c-279f-4b25-96f8-409c8cb3a50b",
   "metadata": {
    "tags": []
   },
   "outputs": [],
   "source": [
    "rng = da.random.default_rng()\n",
    "X = rng.standard_normal((4000, 3, 500, 500), chunks=(-1, -1, 25, 50))\n",
    "X"
   ]
  },
  {
   "cell_type": "code",
   "execution_count": null,
   "id": "ce755956-c430-45a0-916d-0deed31d504c",
   "metadata": {},
   "outputs": [],
   "source": [
    "%run ../TC/EC_function.ipynb"
   ]
  },
  {
   "cell_type": "code",
   "execution_count": null,
   "id": "c766e47a-f65c-4b75-ae0b-f0580e18ea0d",
   "metadata": {
    "tags": []
   },
   "outputs": [],
   "source": [
    "dask_graph = X.map_blocks(lambda X: ec_covar_multi(X, corr_sets=[1,2,3])[0], dtype=np.float64,\n",
    "                          chunks=(X.chunksize[1], X.chunksize[1]) + X.chunksize[2:],\n",
    "                          drop_axis=[0, 1], new_axis=[0, 1])\n",
    "dask_graph"
   ]
  },
  {
   "cell_type": "code",
   "execution_count": null,
   "id": "de6081ba-9622-42ff-9665-c9436d1cdfd5",
   "metadata": {
    "tags": []
   },
   "outputs": [],
   "source": [
    "# dask_graph.visualize()"
   ]
  },
  {
   "cell_type": "code",
   "execution_count": null,
   "id": "1f1d75ab-5420-4fc1-b3fd-de36f500a74d",
   "metadata": {
    "tags": []
   },
   "outputs": [],
   "source": [
    "with ProgressBar():\n",
    "    covar_dask = dask_graph.compute()"
   ]
  }
 ],
 "metadata": {
  "kernelspec": {
   "display_name": "et_tc",
   "language": "python",
   "name": "et_tc"
  },
  "language_info": {
   "codemirror_mode": {
    "name": "ipython",
    "version": 3
   },
   "file_extension": ".py",
   "mimetype": "text/x-python",
   "name": "python",
   "nbconvert_exporter": "python",
   "pygments_lexer": "ipython3",
   "version": "3.11.4"
  }
 },
 "nbformat": 4,
 "nbformat_minor": 5
}
