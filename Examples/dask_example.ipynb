{
 "cells": [
  {
   "cell_type": "markdown",
   "id": "7108da02-5356-4f36-a41f-f4beb2bcce76",
   "metadata": {},
   "source": [
    "# Dask Implementation\n",
    "\n",
    "Implementing the extended collocation (EC) function to out of memory data sets is simple with [`dask`](https://www.dask.org/). All we have to do is use [`map_blocks`](https://docs.dask.org/en/stable/generated/dask.array.map_blocks.html?highlight=map_blocks#dask.array.map_blocks) to map the function to each chunk."
   ]
  },
  {
   "cell_type": "code",
   "execution_count": null,
   "id": "56179162-ac7d-4ffd-b929-7834851642d1",
   "metadata": {
    "tags": []
   },
   "outputs": [],
   "source": [
    "import numpy as np\n",
    "import dask.array as da\n",
    "from dask.diagnostics import ProgressBar"
   ]
  },
  {
   "cell_type": "markdown",
   "id": "b5d7249e-527a-46d9-8356-c4cf04a72edc",
   "metadata": {},
   "source": [
    "As an example, let's generate some random larger than memory data in a `dask` array."
   ]
  },
  {
   "cell_type": "code",
   "execution_count": null,
   "id": "78f61f9c-279f-4b25-96f8-409c8cb3a50b",
   "metadata": {
    "tags": []
   },
   "outputs": [],
   "source": [
    "rng = da.random.default_rng()\n",
    "X = rng.standard_normal((4000, 3, 600, 600), chunks=(-1, -1, 25, 50))\n",
    "X"
   ]
  },
  {
   "cell_type": "markdown",
   "id": "b9b0617c-cc5e-45d8-96b3-e8b8cebb80f1",
   "metadata": {},
   "source": [
    "Load the EC function from it's associated notebook."
   ]
  },
  {
   "cell_type": "code",
   "execution_count": null,
   "id": "ce755956-c430-45a0-916d-0deed31d504c",
   "metadata": {},
   "outputs": [],
   "source": [
    "%run ../TC/EC_function.ipynb"
   ]
  },
  {
   "cell_type": "markdown",
   "id": "d7bf2d3f-82e3-4c5c-aaf1-9b50858ffc27",
   "metadata": {},
   "source": [
    "Now, we simply apply it to `map_blocks`. In this, we need to specify `chunks`, `drop_axis`, and `new_axis` as the EC function drops the first and second dimensions and replaces them with a covariance matrix."
   ]
  },
  {
   "cell_type": "code",
   "execution_count": null,
   "id": "c766e47a-f65c-4b75-ae0b-f0580e18ea0d",
   "metadata": {
    "tags": []
   },
   "outputs": [],
   "source": [
    "dask_graph = X.map_blocks(\n",
    "    lambda X: ec_covar_multi(X, corr_sets=[1, 2, 3]),\n",
    "    dtype=np.float64,\n",
    "    chunks=(X.chunksize[1], X.chunksize[1]) + X.chunksize[2:],\n",
    "    drop_axis=[0, 1],\n",
    "    new_axis=[0, 1],\n",
    ")\n",
    "dask_graph"
   ]
  },
  {
   "cell_type": "markdown",
   "id": "e4c52a86-4382-4528-9f66-5b2b318cb1b0",
   "metadata": {},
   "source": [
    "Time to compute the estimates!"
   ]
  },
  {
   "cell_type": "code",
   "execution_count": null,
   "id": "1f1d75ab-5420-4fc1-b3fd-de36f500a74d",
   "metadata": {
    "tags": []
   },
   "outputs": [],
   "source": [
    "with ProgressBar():\n",
    "    covar_dask = dask_graph.compute()"
   ]
  }
 ],
 "metadata": {
  "kernelspec": {
   "display_name": "Python 3 (ipykernel)",
   "language": "python",
   "name": "python3"
  },
  "language_info": {
   "codemirror_mode": {
    "name": "ipython",
    "version": 3
   },
   "file_extension": ".py",
   "mimetype": "text/x-python",
   "name": "python",
   "nbconvert_exporter": "python",
   "pygments_lexer": "ipython3",
   "version": "3.11.4"
  }
 },
 "nbformat": 4,
 "nbformat_minor": 5
}
