{
 "cells": [
  {
   "cell_type": "code",
   "execution_count": null,
   "id": "be9ed914-7f36-443f-bd63-44c4e3a1940e",
   "metadata": {},
   "outputs": [],
   "source": [
    "import matplotlib.pyplot as plt\n",
    "import numpy as np\n",
    "plt.rcParams['text.usetex'] = True\n",
    "prop_cycle = plt.rcParams['axes.prop_cycle']\n",
    "colors = prop_cycle.by_key()['color'][0:3]\n",
    "\n",
    "x = np.linspace(-3.5, 3.5, 250)\n",
    "y = 1 / np.sqrt(2 * np.pi) * np.exp(-x**2/2)\n",
    "titles = ['Measured Data\\n\\n'+r'$X$',\n",
    "          'Affine Transformed True Data\\n\\n'+r'$\\alpha + \\beta t$',\n",
    "          'Random Error\\n\\n'+r'$\\epsilon$']\n",
    "means = [r'$\\mu_X$', r'$\\mu_t + \\alpha$', r'$\\mu_{\\epsilon} = 0$']\n",
    "sigmas = [r'$\\sigma_X^2$', r'$\\beta^2 \\sigma_t^2$', r'$\\sigma_{\\epsilon}^2$']\n",
    "\n",
    "fig, ax = plt.subplots(1, 3, figsize=(9, 3))\n",
    "for axis, title, mean, sigma in zip(ax, titles, means, sigmas):\n",
    "    axis.plot(x, y)\n",
    "    axis.plot([0, 0], [0, np.interp(0, x, y)], linestyle='--')\n",
    "    axis.plot([-1, 1], np.interp([1, 1], x, y), linestyle='--')\n",
    "    axis.axis('off')\n",
    "    axis.text(0, np.max(ax[0].get_ylim()), title, fontsize=20, ha='center')\n",
    "    axis.annotate(mean, (0, -0.01), (0, -0.07),\n",
    "                  arrowprops={'width':1, 'headwidth': 5, 'headlength':5, 'ec': colors[1],\n",
    "                              'fc': colors[1]},\n",
    "                  fontsize=15, ha='center')\n",
    "    axis.annotate(sigma, (0.6, np.interp(1, x, y) * 1.03), (2, np.interp(1, x, y) * 1.3),\n",
    "                  arrowprops={'width':1, 'headwidth': 5, 'headlength':5, 'ec': colors[2],\n",
    "                              'fc': colors[2]},\n",
    "                  fontsize=15, ha='left')\n",
    "\n",
    "fig.text(0.375, 0.5, '=', fontsize=30, ha='center')\n",
    "fig.text(0.65, 0.5, '+', fontsize=30, ha='center')\n",
    "plt.tight_layout()\n",
    "plt.savefig('TC_diagram.pdf')\n",
    "plt.savefig('TC_diagram.svg')"
   ]
  }
 ],
 "metadata": {
  "kernelspec": {
   "display_name": "et_tc",
   "language": "python",
   "name": "et_tc"
  },
  "language_info": {
   "codemirror_mode": {
    "name": "ipython",
    "version": 3
   },
   "file_extension": ".py",
   "mimetype": "text/x-python",
   "name": "python",
   "nbconvert_exporter": "python",
   "pygments_lexer": "ipython3",
   "version": "3.11.4"
  }
 },
 "nbformat": 4,
 "nbformat_minor": 5
}
