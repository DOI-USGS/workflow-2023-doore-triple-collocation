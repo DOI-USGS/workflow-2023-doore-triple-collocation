{
 "cells": [
  {
   "cell_type": "markdown",
   "id": "659088c7-b079-4ef6-a574-a7132186d997",
   "metadata": {},
   "source": [
    "## Reproject Datasets\n",
    "\n",
    "To reprojected/regrid the ET datasets, we fill follow the reprojectiong method from a HyTEST notebook: [conus404_regrid.ipynb](https://github.com/hytest-org/hytest/blob/main/dataset_access/conus404_regrid.ipynb)\n",
    "\n",
    "This method uses xESMF to reproject rectilinear grids, which is what we have. See this [notebook](https://xesmf.readthedocs.io/en/latest/notebooks/Rectilinear_grid.html) for details. Uses one of six algorithms listed [here](https://xesmf.readthedocs.io/en/latest/notebooks/Compare_algorithms.html). They recommend `conservative` with upscaling (increased pixel size). An inportant note is that extra dimensions must be on the left, i.e. `(time, lev, lat, lon)` is correct but `(lat, lon, time, lev)` would not work. Our ET datasets have this format. So, we are ready to implement.\n",
    "\n",
    "> Note: This requires the dev version of xESMF (v0.7.2), which allows for datasets to have different chunks."
   ]
  },
  {
   "cell_type": "code",
   "execution_count": null,
   "id": "30f52fc4-c384-40b9-8a84-6d279a511742",
   "metadata": {},
   "outputs": [],
   "source": [
    "import hvplot.xarray\n",
    "import cartopy.crs as ccrs\n",
    "import numpy as np\n",
    "import xarray as xr\n",
    "import os\n",
    "from pathlib import Path\n",
    "\n",
    "if 'ESMFMKFILE' not in os.environ:\n",
    "    os.environ['ESMFMKFILE'] = str(Path(os.__file__).parent.parent / 'esmf.mk')\n",
    "\n",
    "import xesmf as xe"
   ]
  },
  {
   "cell_type": "markdown",
   "id": "54c45792-467e-4d04-8dd4-750fedb0bfc5",
   "metadata": {},
   "source": [
    "Let's read in our datasets that we compiled in the `compile_datasets.ipynb` notebook."
   ]
  },
  {
   "cell_type": "code",
   "execution_count": null,
   "id": "3e397bc0-5907-4a13-906d-193420e6051d",
   "metadata": {},
   "outputs": [],
   "source": [
    "terra = xr.open_dataset('terraclimate/terraclimate_aet.nc', engine='netcdf4', chunks={'lat': -1, 'lon': -1, 'time': 30})\n",
    "era5 = xr.open_dataset('era5/era5_aet.nc', engine='netcdf4', chunks={'lon':-1, 'lat':-1, 'time': 219})\n",
    "nldas = xr.open_dataset('nldas/nldas_aet.nc', engine='netcdf4', chunks={'lat': -1, 'lon': -1, 'time': -1})\n",
    "gleam = xr.open_dataset('gleam/gleam_aet.nc', engine='netcdf4', chunks={'lat': -1, 'lon': -1, 'time': -1})\n",
    "wbet = xr.open_dataset('wbet/wbet_aet.nc', engine='netcdf4', chunks={'lat': -1, 'lon': -1, 'time': 2})\n",
    "ssebop = xr.open_dataset('ssebop/ssebop_aet.nc', engine='netcdf4', chunks={'lon': -1, 'lat': -1, 'time': 2})"
   ]
  },
  {
   "cell_type": "markdown",
   "id": "4ee97622-dafd-42d7-9197-517bb3d02450",
   "metadata": {},
   "source": [
    "Either by looking at the datasets or from general knowledge of the data, GLEAM has the lowest reolution of the six datasets. So, we will upscale the other datasets to match its resolution. To do this, we just need to make a `Regridder` object with our dataset and the target dataset. We then regrid. Since we have loaded our datasets as dask arrays, this should be a lazy computation. So, it won't compute until we need it.\n",
    "\n",
    "> Note: Since there are `NaN`s in the maps where there is open water, we need to account for this in our regridding. Setting `skipna=True` ignores `NaN`s in the computations. Without it, any regridded pixel that had a `NaN` in the calculation from the original image would result in a `NaN` (i.e., the `NaN` area would increase)."
   ]
  },
  {
   "cell_type": "code",
   "execution_count": null,
   "id": "cb9624df-19d4-4da5-a981-39d8cb573339",
   "metadata": {},
   "outputs": [],
   "source": [
    "ds_to_regrid = [terra, era5, nldas, wbet, ssebop]\n",
    "ds_names = ['terraclimate', 'era5', 'nldas', 'wbet', 'ssebop']\n",
    "for ds, name in zip(ds_to_regrid, ds_names):\n",
    "    regrid = xe.Regridder(ds, gleam, \"conservative\")\n",
    "    ds_regridded = regrid(ds, keep_attrs=True, skipna=True).chunk({'lat': -1, 'lon': -1, 'time': -1})\n",
    "    ds_regridded.to_netcdf(path=name+'/'+name+'_aet_regridded.nc', format='NETCDF4', engine='netcdf4')\n",
    "    # Delete variables to reduce memory pile-up\n",
    "    del regrid, ds_regridded"
   ]
  },
  {
   "cell_type": "markdown",
   "id": "8abc0dbc-926b-45d8-a147-2793f887b5d6",
   "metadata": {},
   "source": [
    "Now that we have regridded, let's see how the regridded datasets compare with the GLEAM dataset."
   ]
  },
  {
   "cell_type": "code",
   "execution_count": null,
   "id": "2a02bc12-94ac-49f9-86a5-3a885d2550ca",
   "metadata": {},
   "outputs": [],
   "source": [
    "terra_regrid = xr.open_dataset('terraclimate/terraclimate_aet_regridded.nc', engine='netcdf4')\n",
    "era5_regrid = xr.open_dataset('era5/era5_aet_regridded.nc', engine='netcdf4')\n",
    "nldas_regrid = xr.open_dataset('nldas/nldas_aet_regridded.nc', engine='netcdf4')\n",
    "wbet_regrid = xr.open_dataset('wbet/wbet_aet_regridded.nc', engine='netcdf4')\n",
    "ssebop_regrid = xr.open_dataset('ssebop/ssebop_aet_regridded.nc', engine='netcdf4')"
   ]
  },
  {
   "cell_type": "code",
   "execution_count": null,
   "id": "589d7959-bbdf-43ad-a482-9dad25ec3ca4",
   "metadata": {},
   "outputs": [],
   "source": [
    "plt = terra_regrid.hvplot(groupby='time', geo=True, coastline=True, title='TerraClimate Regridded').opts(width=400) + \\\n",
    "      era5_regrid.hvplot(groupby='time', geo=True, coastline=True, title='ERA5 Regridded').opts(width=400) + \\\n",
    "      nldas_regrid.hvplot(groupby='time', geo=True, coastline=True, title='NLDAS Regridded').opts(width=400) + \\\n",
    "      wbet_regrid.hvplot(groupby='time', geo=True, coastline=True, title='WBET Regridded').opts(width=400) + \\\n",
    "      ssebop_regrid.hvplot(groupby='time', geo=True, coastline=True, title='SSEBop Regridded').opts(width=400) + \\\n",
    "      gleam.hvplot(groupby='time', geo=True, coastline=True, title='GLEAM Original').opts(width=400)\n",
    "\n",
    "import panel as pn\n",
    "pn.panel(plt.cols(2), widget_location='top')"
   ]
  }
 ],
 "metadata": {
  "kernelspec": {
   "display_name": "et_tc",
   "language": "python",
   "name": "et_tc"
  },
  "language_info": {
   "codemirror_mode": {
    "name": "ipython",
    "version": 3
   },
   "file_extension": ".py",
   "mimetype": "text/x-python",
   "name": "python",
   "nbconvert_exporter": "python",
   "pygments_lexer": "ipython3",
   "version": "3.11.4"
  }
 },
 "nbformat": 4,
 "nbformat_minor": 5
}
