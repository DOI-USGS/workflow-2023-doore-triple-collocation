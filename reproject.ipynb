{
 "cells": [
  {
   "cell_type": "markdown",
   "id": "659088c7-b079-4ef6-a574-a7132186d997",
   "metadata": {},
   "source": [
    "## Reproject Datasets\n",
    "\n",
    "Here is a link for a reprojectiong method from a HyTEST notebook: [conus404_regrid.ipynb](https://github.com/hytest-org/hytest/blob/main/dataset_access/conus404_regrid.ipynb)\n",
    "\n",
    "Uses xESMF to reproject rectilinear grids, which is what we have. See this [notebook](https://xesmf.readthedocs.io/en/latest/notebooks/Rectilinear_grid.html) for details. Uses one of six algorithms listed [here](https://xesmf.readthedocs.io/en/latest/notebooks/Compare_algorithms.html). They recommend `conservative` with upscaling (increased pixel size). An inportant note is that extra dimensions must be on the left, i.e. `(time, lev, lat, lon)` is correct but `(lat, lon, time, lev)` would not work. Most data sets should have `(lat, lon)` on the right (being the fastest changing dimension in the memory). If not, use `DataArray.transpose` or `numpy.transpose` to preprocess the data.\n",
    "\n",
    "xESMF can also extrapolate holes in the data set, which may be needed. See this [notebook](https://xesmf.readthedocs.io/en/latest/notebooks/Masking.html#Extrapolation)."
   ]
  },
  {
   "cell_type": "code",
   "execution_count": null,
   "id": "30f52fc4-c384-40b9-8a84-6d279a511742",
   "metadata": {},
   "outputs": [],
   "source": [
    "import hvplot.xarray\n",
    "import cartopy.crs as ccrs\n",
    "import numpy as np\n",
    "import xarray as xr\n",
    "import os\n",
    "from pathlib import Path\n",
    "\n",
    "if 'ESMFMKFILE' not in os.environ:\n",
    "    os.environ['ESMFMKFILE'] = str(Path(os.__file__).parent.parent / 'esmf.mk')\n",
    "\n",
    "import xesmf as xe"
   ]
  },
  {
   "cell_type": "code",
   "execution_count": null,
   "id": "3e397bc0-5907-4a13-906d-193420e6051d",
   "metadata": {},
   "outputs": [],
   "source": [
    "ds = xr.tutorial.open_dataset(\n",
    "    \"air_temperature\"\n",
    ")  # use xr.tutorial.load_dataset() for xarray<v0.11.0\n",
    "ds"
   ]
  },
  {
   "cell_type": "code",
   "execution_count": null,
   "id": "802ce3f7-b3e8-47cd-b554-ea6c0a360de9",
   "metadata": {},
   "outputs": [],
   "source": [
    "dr = ds[\"air\"]  # get a DataArray\n",
    "# https://hvplot.holoviz.org/user_guide/Geographic_Data.html\n",
    "dr.isel(time=0).hvplot(geo=True, coastline=True)"
   ]
  },
  {
   "cell_type": "code",
   "execution_count": null,
   "id": "c2286fb1-3890-4c9f-83e6-5a1e7970b036",
   "metadata": {},
   "outputs": [],
   "source": [
    "ds_out = xr.Dataset(\n",
    "    {\n",
    "        \"lat\": ([\"lat\"], np.arange(15, 75, 5), {\"units\": \"degrees_north\"}),\n",
    "        \"lon\": ([\"lon\"], np.arange(200, 330, 5), {\"units\": \"degrees_east\"}),\n",
    "    }\n",
    ")\n",
    "ds_out"
   ]
  },
  {
   "cell_type": "code",
   "execution_count": null,
   "id": "cb9624df-19d4-4da5-a981-39d8cb573339",
   "metadata": {},
   "outputs": [],
   "source": [
    "regridder = xe.Regridder(ds, ds_out, \"conservative\")\n",
    "regridder  # print basic regridder information."
   ]
  },
  {
   "cell_type": "code",
   "execution_count": null,
   "id": "7f8f4e04-d662-4a36-b9a4-376d6a3b5aca",
   "metadata": {},
   "outputs": [],
   "source": [
    "dr_out = regridder(dr, keep_attrs=True)\n",
    "dr_out"
   ]
  },
  {
   "cell_type": "code",
   "execution_count": null,
   "id": "589d7959-bbdf-43ad-a482-9dad25ec3ca4",
   "metadata": {},
   "outputs": [],
   "source": [
    "dr_out.isel(time=0).hvplot(geo=True, coastline=True, width=500) + dr.isel(time=0).hvplot(geo=True, coastline=True, width=500)"
   ]
  },
  {
   "cell_type": "code",
   "execution_count": null,
   "id": "e1d1e422-ab05-4e8a-af84-45f380bdf320",
   "metadata": {},
   "outputs": [],
   "source": [
    "# Double check time series is the same\n",
    "dr.sel(lon=260, lat=40).hvplot() * dr_out.sel(lon=260, lat=40).hvplot()"
   ]
  },
  {
   "cell_type": "code",
   "execution_count": null,
   "id": "8bb79c8e-d0a9-49ca-87a0-bf73787ac421",
   "metadata": {},
   "outputs": [],
   "source": []
  }
 ],
 "metadata": {
  "kernelspec": {
   "display_name": "Python 3 (ipykernel)",
   "language": "python",
   "name": "python3"
  },
  "language_info": {
   "codemirror_mode": {
    "name": "ipython",
    "version": 3
   },
   "file_extension": ".py",
   "mimetype": "text/x-python",
   "name": "python",
   "nbconvert_exporter": "python",
   "pygments_lexer": "ipython3",
   "version": "3.11.4"
  }
 },
 "nbformat": 4,
 "nbformat_minor": 5
}
